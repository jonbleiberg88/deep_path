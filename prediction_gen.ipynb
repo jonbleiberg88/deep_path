{
 "cells": [
  {
   "cell_type": "code",
   "execution_count": 1,
   "metadata": {},
   "outputs": [],
   "source": [
    "%config IPCompleter.greedy=True"
   ]
  },
  {
   "cell_type": "code",
   "execution_count": 2,
   "metadata": {},
   "outputs": [],
   "source": [
    "import constants\n",
    "from utils.file_utils import load_pickle_from_disk\n",
    "import pandas as pd\n",
    "import numpy as np\n",
    "import os\n",
    "import re\n",
    "import openslide\n",
    "import matplotlib\n",
    "import matplotlib.pyplot as plt\n",
    "from collections import defaultdict\n",
    "import warnings"
   ]
  },
  {
   "cell_type": "code",
   "execution_count": 3,
   "metadata": {},
   "outputs": [],
   "source": [
    "def create_preds_array(slide_name):\n",
    "    slide_to_dims = load_pickle_from_disk(f\"{constants.VISUALIZATION_HELPER_FILE_FOLDER}/slide_name_to_tile_dims_map\")\n",
    "    dims = slide_to_dims[slide_name]\n",
    "    preds_array = np.full((*dims, constants.NUM_CLASSES), fill_value=np.nan, dtype=np.float32)\n",
    "    \n",
    "    preds_file = f\"{constants.PREDICTIONS_DIRECTORY}/{slide_name}.csv\"\n",
    "    df = pd.read_csv(preds_file)\n",
    "    patch_to_coords = load_pickle_from_disk(f\"{constants.VISUALIZATION_HELPER_FILE_FOLDER}/patch_name_to_coords_map\")\n",
    "    coords_list = []\n",
    "    \n",
    "    for _, row in df.iterrows():\n",
    "        coords = patch_to_coords[row['filepath'].replace('.jpg', '')]\n",
    "        preds_array[coords] = np.array(row[3:])\n",
    "        coords_list.append(coords)\n",
    "    \n",
    "    return preds_array, coords_list, dims, df\n",
    "    "
   ]
  },
  {
   "cell_type": "code",
   "execution_count": 4,
   "metadata": {},
   "outputs": [],
   "source": [
    "def get_confusion_matrix(slide, preds_df):\n",
    "    confusion_mat = np.zeros((constants.NUM_CLASSES, constants.NUM_CLASSES), dtype=np.int32)\n",
    "\n",
    "    for _,row in preds_df.iterrows():\n",
    "        pred = np.argmax(np.array(row[3:]))\n",
    "        confusion_mat[row['labels'], pred] +=1\n",
    "        \n",
    "    return confusion_mat\n",
    "\n",
    "# from https://gist.github.com/zachguo/10296432\n",
    "\n",
    "def print_cm(cm, labels, hide_zeroes=False, hide_diagonal=False, hide_threshold=None):\n",
    "    \"\"\"pretty print for confusion matrices\"\"\"\n",
    "    columnwidth = max([len(x) for x in labels] + [5])  # 5 is value length\n",
    "    empty_cell = \" \" * columnwidth\n",
    "    \n",
    "    # Begin CHANGES\n",
    "    fst_empty_cell = (columnwidth-3)//2 * \" \" + \"t/p\" + (columnwidth-3)//2 * \" \"\n",
    "    \n",
    "    if len(fst_empty_cell) < len(empty_cell):\n",
    "        fst_empty_cell = \" \" * (len(empty_cell) - len(fst_empty_cell)) + fst_empty_cell\n",
    "    # Print header\n",
    "    print(\"    \" + fst_empty_cell, end=\" \")\n",
    "    # End CHANGES\n",
    "    \n",
    "    for label in labels:\n",
    "        print(\"%{0}s\".format(columnwidth) % label, end=\" \")\n",
    "        \n",
    "    print()\n",
    "    # Print rows\n",
    "    for i, label1 in enumerate(labels):\n",
    "        print(\"    %{0}s\".format(columnwidth) % label1, end=\" \")\n",
    "        for j in range(len(labels)):\n",
    "            cell = \"%{0}s\".format(columnwidth) % cm[i, j]\n",
    "            if hide_zeroes:\n",
    "                cell = cell if float(cm[i, j]) != 0 else empty_cell\n",
    "            if hide_diagonal:\n",
    "                cell = cell if i != j else empty_cell\n",
    "            if hide_threshold:\n",
    "                cell = cell if cm[i, j] > hide_threshold else empty_cell\n",
    "            print(cell, end=\" \")\n",
    "        print()"
   ]
  },
  {
   "cell_type": "code",
   "execution_count": 5,
   "metadata": {},
   "outputs": [],
   "source": [
    "def knn_smooth(preds_array, coords, knn_range=1, smooth_factor=0.7):\n",
    "    result_array = np.copy(preds_array)\n",
    "    \n",
    "    for c in coords:\n",
    "        x, y = c\n",
    "        adj = preds_array[max(0,x-knn_range):x+knn_range+1, max(y-knn_range,0):y+knn_range+1]\n",
    "        if smooth_factor != 1:\n",
    "            weights = np.invert(np.isnan(adj)) * smooth_factor\n",
    "            weights[knn_range, knn_range] = 1\n",
    "            result_array[c] = np.nansum(adj * weights, axis=(0,1)) / np.sum(weights, axis=(0,1))\n",
    "        else:\n",
    "            result_array[c] = np.nanmean(adj, axis=(0,1))\n",
    "    \n",
    "    return result_array"
   ]
  },
  {
   "cell_type": "code",
   "execution_count": 6,
   "metadata": {},
   "outputs": [],
   "source": [
    "def estimate_surface_areas(preds_array, label_to_class):\n",
    "    p = np.argmax(preds_array, axis=-1)\n",
    "    pred_class = np.where(np.isnan(preds_array[:,:,0]), preds_array[:,:,0], p)\n",
    "    \n",
    "    num_per_class = defaultdict(int)\n",
    "    \n",
    "    \n",
    "    for label in label_to_class.keys():\n",
    "        num_per_class[label_to_class[label]] = np.sum(pred_class == label)\n",
    "    \n",
    "    patch_area = constants.PATCH_SIZE ** 2\n",
    "    sa_per_class = {c:n*patch_area for c,n in num_per_class.items()}\n",
    "        \n",
    "    return num_per_class, sa_per_class\n",
    "    "
   ]
  },
  {
   "cell_type": "code",
   "execution_count": 7,
   "metadata": {},
   "outputs": [],
   "source": [
    "def get_sa_for_slide(slide_name):\n",
    "    path = f\"{constants.SA_CSV_DIRECTORY}/{slide_name}.csv\"\n",
    "    sa_df = pd.read_csv(path)\n",
    "    sa_df.columns = ['class', 'area']\n",
    "    sa_by_class = sa_df.groupby('class').sum()\n",
    "    sa_dict = defaultdict(int)\n",
    "    \n",
    "    for class_name, val in sa_by_class.iterrows():\n",
    "        area = val[0]\n",
    "        sa_dict[class_name] = area\n",
    "    \n",
    "    return sa_dict"
   ]
  },
  {
   "cell_type": "code",
   "execution_count": 8,
   "metadata": {},
   "outputs": [],
   "source": [
    "from mpl_toolkits.axes_grid1 import make_axes_locatable\n",
    "\n",
    "def visualize_predictions(preds_array, slide, class_to_label, label_to_class, dims, mode='jupyter'):\n",
    "    path = get_slide_path(slide)\n",
    "    slide_obj = openslide.OpenSlide(path)\n",
    "    im = slide_obj.get_thumbnail((dims[1], dims[0])).resize((dims[1], dims[0])).convert('L')\n",
    "    dpi = 100\n",
    "    dims_in = (dims[0] / dpi, dims[1] / dpi)\n",
    "    \n",
    "    p = np.argmax(preds_array, axis=-1)\n",
    "    pred_class = np.where(np.isnan(preds_array[:,:,0]), preds_array[:,:,0], p)\n",
    "    with warnings.catch_warnings():\n",
    "        warnings.filterwarnings('ignore', r'All-NaN (slice|axis) encountered')\n",
    "        pred_conf = np.nanmax(preds_array, axis=-1)\n",
    "    \n",
    "    default_confs = np.where(pred_class==class_to_label[constants.DEFAULT_CLASS_NAME], \n",
    "                                 pred_conf, np.full(pred_class.shape, np.nan))\n",
    "    large_confs = np.where(pred_class==class_to_label['large_tumor'], pred_conf, np.full(pred_class.shape, np.nan))\n",
    "    small_confs = np.where(pred_class==class_to_label['small_tumor'], pred_conf, np.full(pred_class.shape, np.nan))\n",
    "    \n",
    "    \n",
    "    fig = plt.figure(figsize=dims_in, dpi=dpi)\n",
    "    ax = plt.gca()\n",
    "    ax.imshow(im, cmap=plt.cm.gray)\n",
    "    \n",
    "    \n",
    "    default_im = ax.imshow(default_confs, interpolation='none', cmap=plt.cm.Greens, vmin=0, vmax=1, alpha=0.5)\n",
    "    large_im = ax.imshow(large_confs, interpolation='none', cmap=plt.cm.Blues, vmin=0, vmax=1, alpha=0.5)\n",
    "    small_im = ax.imshow(small_confs, interpolation='none', cmap=plt.cm.Reds, vmin=0, vmax=1, alpha=0.5)\n",
    "    \n",
    "    ax.set_title(f\"{slide}\")\n",
    "    divider = make_axes_locatable(ax)\n",
    "    \n",
    "    cax = divider.append_axes(\"right\", size=\"5%\", pad=0.05)\n",
    "    cax2 = divider.append_axes(\"right\", size=\"5%\", pad=.75)\n",
    "    cax3 = divider.append_axes(\"right\", size=\"5%\", pad=.75)\n",
    "\n",
    "    default_cbar = plt.colorbar(default_im, ticks=[0.0, 0.5, 1.0], cax=cax)\n",
    "    default_cbar.ax.set_title('Normal', fontsize=8)\n",
    "\n",
    "    large_cbar = plt.colorbar(large_im, ticks=[0.0, 0.5, 1.0], cax=cax2)\n",
    "    large_cbar.ax.set_title('Large', fontsize=8)\n",
    "\n",
    "    small_cbar = plt.colorbar(small_im, ticks=[0.0, 0.5, 1.0], cax=cax3)\n",
    "    small_cbar.ax.set_title('Small', fontsize=8)\n",
    "    \n",
    "    if mode == 'jupyter':\n",
    "        plt.show()\n",
    "        plt.close()\n",
    "        \n",
    "    elif mode == 'save':\n",
    "        viz_dir = f\"{constants.VISUALIZATION_HELPER_FILE_FOLDER}/visualizations\"\n",
    "        if not os.path.isdir(viz_dir):\n",
    "            os.makedirs(viz_dir)\n",
    "        plt.savefig(f\"{viz_dir}/{slide}.png\")\n",
    "        plt.close()\n",
    "    \n",
    "def process_label(label):\n",
    "    return label.replace(\"_\",\" \").title()\n",
    "\n",
    "def get_slide_path(slide):\n",
    "    if \"Scan\" in slide:\n",
    "        path = f\"{constants.SLIDE_FILE_DIRECTORY}/\" + \"/\".join(slide.split(\"_\")) + f\"/{slide}.qptiff\"\n",
    "    else:\n",
    "        prefix = re.split(\"[0-9]+\", slide)[0]\n",
    "        img_num = int(re.findall(\"[0-9]+\", slide)[0])\n",
    "\n",
    "        path = f\"{constants.SLIDE_FILE_DIRECTORY}/{prefix}{img_num:02}/{slide}.svs\"\n",
    "    return path"
   ]
  },
  {
   "cell_type": "code",
   "execution_count": 9,
   "metadata": {},
   "outputs": [],
   "source": [
    "def get_metrics(num_per_class, sa_dict, preds_array, class_to_label):\n",
    "    total_num = sum(list(num_per_class.values()))\n",
    "    \n",
    "    true_ls_ratio = sa_dict['large_tumor'] / (sa_dict['large_tumor'] + sa_dict['small_tumor'])\n",
    "    \n",
    "    pred_ls_ratio = num_per_class['large_tumor'] / (num_per_class['large_tumor'] + num_per_class['small_tumor'])\n",
    "\n",
    "    \n",
    "    print(f\"Predicted Large-Small Ratio: {pred_ls_ratio:.2f}; True ratio: {true_ls_ratio:.2f}\")\n",
    "        \n",
    "    return true_ls_ratio, pred_ls_ratio"
   ]
  },
  {
   "cell_type": "code",
   "execution_count": 10,
   "metadata": {},
   "outputs": [],
   "source": [
    "def process_predictions(slide):\n",
    "    preds_array, coords, dims, df = create_preds_array(slide)\n",
    "    if constants.KNN_SMOOTH:\n",
    "        preds_array = knn_smooth(preds_array, coords)\n",
    "    \n",
    "    confusion_matrix = get_confusion_matrix(slide, df)\n",
    "\n",
    "    class_to_label = load_pickle_from_disk(f\"{constants.VISUALIZATION_HELPER_FILE_FOLDER}/class_to_label\")\n",
    "    label_to_class = {v:k for k,v in class_to_label.items()}\n",
    "    \n",
    "    print_cm(confusion_matrix, labels = [label_to_class[i] for i in range(max(label_to_class.keys()) + 1)])\n",
    "\n",
    "    num_per_class, sa_per_class = estimate_surface_areas(preds_array, label_to_class)\n",
    "\n",
    "    visualize_predictions(preds_array, slide, class_to_label, label_to_class, dims)\n",
    "\n",
    "    sa_dict = get_sa_for_slide(slide)\n",
    "    true_ratio, pred_ratio = get_metrics(num_per_class, sa_dict, preds_array, class_to_label)\n",
    "    return true_ratio, pred_ratio, confusion_matrix"
   ]
  },
  {
   "cell_type": "code",
   "execution_count": 22,
   "metadata": {},
   "outputs": [],
   "source": [
    "def process_all_predictions():\n",
    "    df = pd.DataFrame(columns=['slide', 'predicted_ratio', 'true_ratio'])\n",
    "    \n",
    "    confusion_mat = np.zeros((constants.NUM_CLASSES, constants.NUM_CLASSES), dtype=np.int32)\n",
    "    for slide_file in os.listdir(constants.PREDICTIONS_DIRECTORY):\n",
    "        if '.csv' not in slide_file:\n",
    "            continue\n",
    "        slide = slide_file.replace(\".csv\", \"\")\n",
    "        print(f\"Results for Slide {slide}\")\n",
    "        true, pred, confuse = process_predictions(slide)\n",
    "        df = df.append({'slide':slide, 'predicted_ratio':pred, 'true_ratio':true}, ignore_index=True)\n",
    "        \n",
    "        confusion_mat += confuse\n",
    "        \n",
    "    class_to_label = load_pickle_from_disk(f\"{constants.VISUALIZATION_HELPER_FILE_FOLDER}/class_to_label\")\n",
    "    label_to_class = {v:k for k,v in class_to_label.items()}\n",
    "        \n",
    "    print(\"Final Confusion Matrix\")\n",
    "    print_cm(confusion_mat, labels = [label_to_class[i] for i in range(max(label_to_class.keys()) + 1)])\n",
    "    \n",
    "    df.to_csv(os.path.join(constants.PREDICTIONS_DIRECTORY, \"predicted_ratios.csv\"))"
   ]
  },
  {
   "cell_type": "code",
   "execution_count": 24,
   "metadata": {},
   "outputs": [
    {
     "name": "stdout",
     "output_type": "stream",
     "text": [
      "         t/p        large_tumor normal_tissue   small_tumor normal_marrow \n",
      "      large_tumor          1791          4294          5955            14 \n",
      "    normal_tissue            75          1025            53            76 \n",
      "      small_tumor             0             0             0             0 \n",
      "    normal_marrow            51          5226           285           222 \n",
      "defaultdict(<class 'int'>, {'large_tumor': 1091, 'normal_tissue': 11174, 'small_tumor': 6652, 'normal_marrow': 150})\n"
     ]
    },
    {
     "data": {
      "image/png": "[encoded data removed]",
      "text/plain": [
       "<Figure size 396x990 with 4 Axes>"
      ]
     },
     "metadata": {
      "needs_background": "light"
     },
     "output_type": "display_data"
    },
    {
     "name": "stdout",
     "output_type": "stream",
     "text": [
      "Predicted Large-Small Ratio: 0.14; True ratio: 1.00\n"
     ]
    },
    {
     "data": {
      "text/plain": [
       "(1.0, 0.1409014593826682, array([[1791, 4294, 5955,   14],\n",
       "        [  75, 1025,   53,   76],\n",
       "        [   0,    0,    0,    0],\n",
       "        [  51, 5226,  285,  222]], dtype=int32))"
      ]
     },
     "execution_count": 24,
     "metadata": {},
     "output_type": "execute_result"
    }
   ],
   "source": [
    "slide = 'FLT12'\n",
    "process_predictions(slide)"
   ]
  },
  {
   "cell_type": "code",
   "execution_count": null,
   "metadata": {},
   "outputs": [],
   "source": [
    "process_all_predictions()"
   ]
  }
 ],
 "metadata": {
  "kernelspec": {
   "display_name": "Python 3",
   "language": "python",
   "name": "python3"
  },
  "language_info": {
   "codemirror_mode": {
    "name": "ipython",
    "version": 3
   },
   "file_extension": ".py",
   "mimetype": "text/x-python",
   "name": "python",
   "nbconvert_exporter": "python",
   "pygments_lexer": "ipython3",
   "version": "3.6.8"
  }
 },
 "nbformat": 4,
 "nbformat_minor": 2
}
