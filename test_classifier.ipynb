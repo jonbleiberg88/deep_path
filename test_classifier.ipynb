{
 "cells": [
  {
   "cell_type": "code",
   "execution_count": 44,
   "metadata": {
    "collapsed": true
   },
   "outputs": [],
   "source": [
    "import tensorflow as tf\n",
    "import constants\n",
    "from transfer_CNN import TransferCNN\n",
    "from data_generator import DataGenerator\n"
   ]
  },
  {
   "cell_type": "code",
   "execution_count": 45,
   "metadata": {},
   "outputs": [],
   "source": [
    "model = tf.keras.models.load_model(\"model_fold_0\")"
   ]
  },
  {
   "cell_type": "code",
   "execution_count": 3,
   "metadata": {
    "collapsed": true
   },
   "outputs": [],
   "source": [
    "from prepare_dataset import split_train_test"
   ]
  },
  {
   "cell_type": "code",
   "execution_count": 5,
   "metadata": {},
   "outputs": [
    {
     "name": "stdout",
     "output_type": "stream",
     "text": [
      "Fold 0\n",
      "Train:\n",
      "Large_Tumor_Cells: 12016\n",
      "Small_Tumor_Cells: 12882\n",
      "Test:\n",
      "Large_Tumor_Cells: 3535\n",
      "Small_Tumor_Cells: 1115\n",
      "_______________________________________\n",
      "Fold 1\n",
      "Train:\n",
      "Large_Tumor_Cells: 12995\n",
      "Small_Tumor_Cells: 11741\n",
      "Test:\n",
      "Large_Tumor_Cells: 2556\n",
      "Small_Tumor_Cells: 2256\n",
      "_______________________________________\n",
      "Fold 2\n",
      "Train:\n",
      "Large_Tumor_Cells: 15485\n",
      "Small_Tumor_Cells: 6885\n",
      "Test:\n",
      "Large_Tumor_Cells: 66\n",
      "Small_Tumor_Cells: 7112\n",
      "_______________________________________\n",
      "Fold 3\n",
      "Train:\n",
      "Large_Tumor_Cells: 6695\n",
      "Small_Tumor_Cells: 13493\n",
      "Test:\n",
      "Large_Tumor_Cells: 8856\n",
      "Small_Tumor_Cells: 504\n",
      "_______________________________________\n",
      "Fold 4\n",
      "Train:\n",
      "Large_Tumor_Cells: 15013\n",
      "Small_Tumor_Cells: 10987\n",
      "Test:\n",
      "Large_Tumor_Cells: 538\n",
      "Small_Tumor_Cells: 3010\n",
      "_______________________________________\n"
     ]
    }
   ],
   "source": [
    "folds_list = split_train_test(constants.PATCH_OUTPUT_DIRECTORY, 5)"
   ]
  },
  {
   "cell_type": "code",
   "execution_count": 6,
   "metadata": {
    "collapsed": true
   },
   "outputs": [],
   "source": [
    "from prepare_dataset import get_dataset_for_fold"
   ]
  },
  {
   "cell_type": "code",
   "execution_count": 46,
   "metadata": {},
   "outputs": [],
   "source": [
    "data, labels, class_to_label = get_dataset_for_fold(constants.PATCH_OUTPUT_DIRECTORY, folds_list, 1)"
   ]
  },
  {
   "cell_type": "code",
   "execution_count": 47,
   "metadata": {},
   "outputs": [],
   "source": [
    "test_gen = DataGenerator(data['test'], labels['test'])"
   ]
  },
  {
   "cell_type": "code",
   "execution_count": 48,
   "metadata": {},
   "outputs": [],
   "source": [
    "imgs = test_gen.__getitem__(4)[0]"
   ]
  },
  {
   "cell_type": "code",
   "execution_count": 49,
   "metadata": {},
   "outputs": [
    {
     "data": {
      "text/plain": [
       "array([[[0.96875   , 0.58203125, 0.8046875 ],\n",
       "        [0.97265625, 0.5859375 , 0.80859375],\n",
       "        [0.97265625, 0.5859375 , 0.80859375],\n",
       "        ...,\n",
       "        [0.55859375, 0.48046875, 0.7578125 ],\n",
       "        [0.53515625, 0.4765625 , 0.74609375],\n",
       "        [0.51953125, 0.46875   , 0.73828125]],\n",
       "\n",
       "       [[0.96484375, 0.58203125, 0.8046875 ],\n",
       "        [0.96875   , 0.58203125, 0.8046875 ],\n",
       "        [0.97265625, 0.5859375 , 0.80859375],\n",
       "        ...,\n",
       "        [0.5234375 , 0.45703125, 0.734375  ],\n",
       "        [0.51171875, 0.44921875, 0.7265625 ],\n",
       "        [0.4921875 , 0.44140625, 0.7109375 ]],\n",
       "\n",
       "       [[0.96484375, 0.58203125, 0.8046875 ],\n",
       "        [0.96484375, 0.58203125, 0.8046875 ],\n",
       "        [0.96484375, 0.58203125, 0.8046875 ],\n",
       "        ...,\n",
       "        [0.51171875, 0.44921875, 0.734375  ],\n",
       "        [0.48828125, 0.4375    , 0.71875   ],\n",
       "        [0.47265625, 0.42578125, 0.70703125]],\n",
       "\n",
       "       ...,\n",
       "\n",
       "       [[0.9609375 , 0.578125  , 0.80078125],\n",
       "        [0.95703125, 0.57421875, 0.796875  ],\n",
       "        [0.953125  , 0.5703125 , 0.79296875],\n",
       "        ...,\n",
       "        [0.546875  , 0.50390625, 0.73828125],\n",
       "        [0.55078125, 0.51171875, 0.75      ],\n",
       "        [0.56640625, 0.53125   , 0.77734375]],\n",
       "\n",
       "       [[0.953125  , 0.5703125 , 0.79296875],\n",
       "        [0.953125  , 0.5703125 , 0.79296875],\n",
       "        [0.95703125, 0.57421875, 0.796875  ],\n",
       "        ...,\n",
       "        [0.5390625 , 0.49609375, 0.73046875],\n",
       "        [0.5390625 , 0.5       , 0.73828125],\n",
       "        [0.546875  , 0.5234375 , 0.765625  ]],\n",
       "\n",
       "       [[0.94921875, 0.56640625, 0.7890625 ],\n",
       "        [0.94921875, 0.56640625, 0.7890625 ],\n",
       "        [0.95703125, 0.57421875, 0.796875  ],\n",
       "        ...,\n",
       "        [0.53125   , 0.48828125, 0.71484375],\n",
       "        [0.515625  , 0.484375  , 0.71875   ],\n",
       "        [0.51953125, 0.49609375, 0.73046875]]])"
      ]
     },
     "execution_count": 49,
     "metadata": {},
     "output_type": "execute_result"
    }
   ],
   "source": [
    "imgs[0]"
   ]
  },
  {
   "cell_type": "code",
   "execution_count": 57,
   "metadata": {},
   "outputs": [
    {
     "data": {
      "text/plain": [
       "array([0, 0, 0, 0, 0, 1, 0, 1, 1, 1, 1, 0, 0, 0, 0, 0, 0, 0, 0, 1, 0, 0,\n",
       "       0, 1, 0, 0, 0, 1, 1, 1, 0, 0])"
      ]
     },
     "execution_count": 57,
     "metadata": {},
     "output_type": "execute_result"
    }
   ],
   "source": [
    "labels = test_gen.__getitem__(4)[1]\n",
    "labels"
   ]
  },
  {
   "cell_type": "code",
   "execution_count": 53,
   "metadata": {},
   "outputs": [],
   "source": [
    "pred = model.predict(imgs)"
   ]
  },
  {
   "cell_type": "code",
   "execution_count": 54,
   "metadata": {},
   "outputs": [
    {
     "data": {
      "text/plain": [
       "array([[0.73730314],\n",
       "       [0.70065856],\n",
       "       [0.6878252 ],\n",
       "       [0.73113394],\n",
       "       [0.730013  ],\n",
       "       [0.7035779 ],\n",
       "       [0.6673736 ],\n",
       "       [0.7421068 ],\n",
       "       [0.6987495 ],\n",
       "       [0.685504  ],\n",
       "       [0.69261754],\n",
       "       [0.70210636],\n",
       "       [0.7016282 ],\n",
       "       [0.6860353 ],\n",
       "       [0.6670346 ],\n",
       "       [0.6668663 ],\n",
       "       [0.6666185 ],\n",
       "       [0.7058162 ],\n",
       "       [0.66698956],\n",
       "       [0.68265355],\n",
       "       [0.66751206],\n",
       "       [0.6667921 ],\n",
       "       [0.69508255],\n",
       "       [0.6689125 ],\n",
       "       [0.67468995],\n",
       "       [0.6676301 ],\n",
       "       [0.67307335],\n",
       "       [0.6673104 ],\n",
       "       [0.71053946],\n",
       "       [0.66754085],\n",
       "       [0.6671934 ],\n",
       "       [0.666934  ]], dtype=float32)"
      ]
     },
     "execution_count": 54,
     "metadata": {},
     "output_type": "execute_result"
    }
   ],
   "source": [
    "pred"
   ]
  },
  {
   "cell_type": "code",
   "execution_count": 33,
   "metadata": {},
   "outputs": [],
   "source": [
    "train_gen = DataGenerator(data['train'], labels['train'])"
   ]
  },
  {
   "cell_type": "code",
   "execution_count": 43,
   "metadata": {},
   "outputs": [
    {
     "data": {
      "text/plain": [
       "array([0, 1, 0, 0, 0, 0, 1, 0, 1, 1, 0, 1, 0, 1, 1, 1, 1, 0, 0, 1, 0, 0,\n",
       "       0, 0, 1, 0, 1, 0, 1, 1, 1, 1])"
      ]
     },
     "execution_count": 43,
     "metadata": {},
     "output_type": "execute_result"
    }
   ],
   "source": [
    "train_gen.__getitem__(5)[1]"
   ]
  },
  {
   "cell_type": "code",
   "execution_count": 68,
   "metadata": {
    "collapsed": true
   },
   "outputs": [],
   "source": [
    "from tensorflow.keras.losses import binary_crossentropy\n",
    "import numpy as np"
   ]
  },
  {
   "cell_type": "code",
   "execution_count": 71,
   "metadata": {
    "scrolled": true
   },
   "outputs": [
    {
     "data": {
      "text/plain": [
       "array([[0.],\n",
       "       [0.],\n",
       "       [0.],\n",
       "       [0.],\n",
       "       [0.],\n",
       "       [1.],\n",
       "       [0.],\n",
       "       [1.],\n",
       "       [1.],\n",
       "       [1.],\n",
       "       [1.],\n",
       "       [0.],\n",
       "       [0.],\n",
       "       [0.],\n",
       "       [0.],\n",
       "       [0.],\n",
       "       [0.],\n",
       "       [0.],\n",
       "       [0.],\n",
       "       [1.],\n",
       "       [0.],\n",
       "       [0.],\n",
       "       [0.],\n",
       "       [1.],\n",
       "       [0.],\n",
       "       [0.],\n",
       "       [0.],\n",
       "       [1.],\n",
       "       [1.],\n",
       "       [1.],\n",
       "       [0.],\n",
       "       [0.]], dtype=float32)"
      ]
     },
     "execution_count": 71,
     "metadata": {},
     "output_type": "execute_result"
    }
   ],
   "source": [
    "labels = labels.reshape(-1, 1)\n",
    "labels.astype(np.float32)"
   ]
  },
  {
   "cell_type": "code",
   "execution_count": 62,
   "metadata": {},
   "outputs": [
    {
     "data": {
      "text/plain": [
       "array([[0.73730314],\n",
       "       [0.70065856],\n",
       "       [0.6878252 ],\n",
       "       [0.73113394],\n",
       "       [0.730013  ],\n",
       "       [0.7035779 ],\n",
       "       [0.6673736 ],\n",
       "       [0.7421068 ],\n",
       "       [0.6987495 ],\n",
       "       [0.685504  ],\n",
       "       [0.69261754],\n",
       "       [0.70210636],\n",
       "       [0.7016282 ],\n",
       "       [0.6860353 ],\n",
       "       [0.6670346 ],\n",
       "       [0.6668663 ],\n",
       "       [0.6666185 ],\n",
       "       [0.7058162 ],\n",
       "       [0.66698956],\n",
       "       [0.68265355],\n",
       "       [0.66751206],\n",
       "       [0.6667921 ],\n",
       "       [0.69508255],\n",
       "       [0.6689125 ],\n",
       "       [0.67468995],\n",
       "       [0.6676301 ],\n",
       "       [0.67307335],\n",
       "       [0.6673104 ],\n",
       "       [0.71053946],\n",
       "       [0.66754085],\n",
       "       [0.6671934 ],\n",
       "       [0.666934  ]], dtype=float32)"
      ]
     },
     "execution_count": 62,
     "metadata": {},
     "output_type": "execute_result"
    }
   ],
   "source": [
    "pred"
   ]
  },
  {
   "cell_type": "code",
   "execution_count": 88,
   "metadata": {},
   "outputs": [],
   "source": [
    "t = binary_crossentropy(labels.astype(np.float32).reshape(-1), pred.reshape(-1), True)"
   ]
  },
  {
   "cell_type": "code",
   "execution_count": 82,
   "metadata": {},
   "outputs": [],
   "source": [
    "import tensorflow.keras.backend"
   ]
  },
  {
   "cell_type": "code",
   "execution_count": 90,
   "metadata": {},
   "outputs": [
    {
     "data": {
      "text/plain": [
       "0.87900364"
      ]
     },
     "execution_count": 90,
     "metadata": {},
     "output_type": "execute_result"
    }
   ],
   "source": [
    "tf.keras.backend.get_value(t)"
   ]
  },
  {
   "cell_type": "code",
   "execution_count": 84,
   "metadata": {},
   "outputs": [
    {
     "data": {
      "text/plain": [
       "{'large_tumor_cells': 0, 'small_tumor_cells': 1}"
      ]
     },
     "execution_count": 84,
     "metadata": {},
     "output_type": "execute_result"
    }
   ],
   "source": [
    "class_to_label"
   ]
  },
  {
   "cell_type": "code",
   "execution_count": null,
   "metadata": {
    "collapsed": true
   },
   "outputs": [],
   "source": []
  }
 ],
 "metadata": {
  "kernelspec": {
   "display_name": "Python 3",
   "language": "python",
   "name": "python3"
  },
  "language_info": {
   "codemirror_mode": {
    "name": "ipython",
    "version": 3
   },
   "file_extension": ".py",
   "mimetype": "text/x-python",
   "name": "python",
   "nbconvert_exporter": "python",
   "pygments_lexer": "ipython3",
   "version": "3.6.3"
  }
 },
 "nbformat": 4,
 "nbformat_minor": 2
}
