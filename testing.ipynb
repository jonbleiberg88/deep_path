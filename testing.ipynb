{
 "cells": [
  {
   "cell_type": "code",
   "execution_count": 1,
   "metadata": {},
   "outputs": [],
   "source": [
    "import os\n",
    "import numpy as np\n",
    "import pandas as pd\n",
    "import constants\n",
    "\n",
    "from collections import defaultdict\n",
    "from sklearn.model_selection import KFold"
   ]
  },
  {
   "cell_type": "code",
   "execution_count": 2,
   "metadata": {},
   "outputs": [],
   "source": [
    "class_to_label = {'ND':0, 'D':1}\n",
    "labels_df = pd.read_csv(constants.LABEL_FILE)"
   ]
  },
  {
   "cell_type": "code",
   "execution_count": 14,
   "metadata": {},
   "outputs": [
    {
     "data": {
      "text/plain": [
       "{'D': ['FLT1',\n",
       "  'FLT2',\n",
       "  'FLT3',\n",
       "  'FLT4',\n",
       "  'FLT5',\n",
       "  'FLT7',\n",
       "  'FLT8',\n",
       "  'FLT9',\n",
       "  'FLT10',\n",
       "  'FLT12',\n",
       "  'FLT13',\n",
       "  'FLT15',\n",
       "  'FLN7'],\n",
       " 'ND': ['FLT6', 'FLT14', 'FLN1', 'FLN2', 'FLN3', 'FLN4', 'FLN5', 'FLN6']}"
      ]
     },
     "execution_count": 14,
     "metadata": {},
     "output_type": "execute_result"
    }
   ],
   "source": [
    "class_to_slide = {}\n",
    "class_to_slide['D'] = list(labels_df['Slide'][labels_df['Nucleoli']  == 'D'])\n",
    "class_to_slide['ND'] = list(labels_df['Slide'][labels_df['Nucleoli']  == 'ND'])\n",
    "class_to_slide"
   ]
  },
  {
   "cell_type": "code",
   "execution_count": 12,
   "metadata": {},
   "outputs": [
    {
     "data": {
      "text/plain": [
       "array(['FLT1', 'FLT2', 'FLT3', 'FLT4', 'FLT5', 'FLT7', 'FLT8', 'FLT9',\n",
       "       'FLT10', 'FLT12', 'FLT13', 'FLT15', 'FLN7'], dtype=object)"
      ]
     },
     "execution_count": 12,
     "metadata": {},
     "output_type": "execute_result"
    }
   ],
   "source": [
    "slide_to_class = "
   ]
  },
  {
   "cell_type": "code",
   "execution_count": null,
   "metadata": {},
   "outputs": [],
   "source": []
  }
 ],
 "metadata": {
  "kernelspec": {
   "display_name": "Python 3",
   "language": "python",
   "name": "python3"
  },
  "language_info": {
   "codemirror_mode": {
    "name": "ipython",
    "version": 3
   },
   "file_extension": ".py",
   "mimetype": "text/x-python",
   "name": "python",
   "nbconvert_exporter": "python",
   "pygments_lexer": "ipython3",
   "version": "3.6.8"
  }
 },
 "nbformat": 4,
 "nbformat_minor": 2
}
